{
  "nbformat": 4,
  "nbformat_minor": 0,
  "metadata": {
    "colab": {
      "provenance": [],
      "authorship_tag": "ABX9TyM7FDjscQfDCiOetOlBWv7x",
      "include_colab_link": true
    },
    "kernelspec": {
      "name": "python3",
      "display_name": "Python 3"
    },
    "language_info": {
      "name": "python"
    }
  },
  "cells": [
    {
      "cell_type": "markdown",
      "metadata": {
        "id": "view-in-github",
        "colab_type": "text"
      },
      "source": [
        "<a href=\"https://colab.research.google.com/github/TinyMacarron/programaci-n/blob/main/Ejercicio_14.ipynb\" target=\"_parent\"><img src=\"https://colab.research.google.com/assets/colab-badge.svg\" alt=\"Open In Colab\"/></a>"
      ]
    },
    {
      "cell_type": "code",
      "execution_count": null,
      "metadata": {
        "colab": {
          "base_uri": "https://localhost:8080/"
        },
        "id": "lL6Qve49jy6_",
        "outputId": "3e7ce516-896e-43d7-ed82-470047d14cc3"
      },
      "outputs": [
        {
          "output_type": "stream",
          "name": "stdout",
          "text": [
            "Introduzca un numero entero mayor que uno:7\n",
            "[2, 3, 5, 7]\n"
          ]
        }
      ],
      "source": [
        "count=0\n",
        "listaprimos = []\n",
        "z=int(input(\"Introduzca un numero entero mayor que uno:\"))\n",
        "while z<=1:\n",
        "  z=int(input(\"Introduzca un numero entero mayor que uno:\"))\n",
        "for n in range(2,z+1):\n",
        "  for y in range(2,int(n**0.5)+1):\n",
        "    if n%y==0:\n",
        "      count+=1\n",
        "      break\n",
        "  if count == 0:\n",
        "    listaprimos.append(n)\n",
        "  count = 0\n",
        "print(listaprimos)"
      ]
    }
  ]
}